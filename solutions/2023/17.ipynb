{
 "cells": [
  {
   "cell_type": "code",
   "execution_count": 56,
   "id": "0fc9294a",
   "metadata": {},
   "outputs": [],
   "source": [
    "# (0, 0, 0, 0)\n",
    "# (0, 1, 0, 1)\n",
    "# (0, 2, 0, 2)\n",
    "# (1, 2, 1, 0) # we turned down, so dc = 0 now\n",
    "# (2, 2, 0, 1) # turned again\n",
    "# (2, 3, 0, 2)\n",
    "# (2, 3, 0, 3) # this is as far as we can go in this direction b/c dc = 3\n",
    "# (1, 3, -1, 0)\n",
    "\n",
    "\"\"\"\n",
    "Just like yesterday, using complex numbers to store our position and direction.\n",
    "\n",
    "To handle the movement constraints (min and max number of steps before a turn), most solutions check whether we are allowed to move one step in each of the directions (straight, left, and right).\n",
    "\n",
    "Instead, we simply do each of \"turn left and move min_steps\", \" turn left and move min_steps+1\", ..., up to \" turn right and move max_steps\". As long as the destination is still on the map, each of these is valid. In code:\n",
    "\n",
    "for dir in left, right:\n",
    "    for steps in range(min_steps, max_steps+1):\n",
    "        if pos + steps*dir in G:\n",
    "            total_loss = sum(G[pos + step*dir] for step in range(1, step+1))\n",
    "\"\"\""
   ]
  },
  {
   "cell_type": "code",
   "execution_count": 57,
   "id": "4de7f110",
   "metadata": {},
   "outputs": [
    {
     "data": {
      "text/plain": [
       "array([[2, 4, 1, 3, 4, 3, 2, 3, 1, 1, 3, 2, 3],\n",
       "       [3, 2, 1, 5, 4, 5, 3, 5, 3, 5, 6, 2, 3],\n",
       "       [3, 2, 5, 5, 2, 4, 5, 6, 5, 4, 2, 5, 4],\n",
       "       [3, 4, 4, 6, 5, 8, 5, 8, 4, 5, 4, 5, 2],\n",
       "       [4, 5, 4, 6, 6, 5, 7, 8, 6, 7, 5, 3, 6],\n",
       "       [1, 4, 3, 8, 5, 9, 8, 7, 9, 8, 4, 5, 4],\n",
       "       [4, 4, 5, 7, 8, 7, 6, 9, 8, 7, 7, 6, 6],\n",
       "       [3, 6, 3, 7, 8, 7, 7, 9, 7, 9, 6, 5, 3],\n",
       "       [4, 6, 5, 4, 9, 6, 7, 9, 8, 6, 8, 8, 7],\n",
       "       [4, 5, 6, 4, 6, 7, 9, 9, 8, 6, 4, 5, 3],\n",
       "       [1, 2, 2, 4, 6, 8, 6, 8, 6, 5, 5, 6, 3],\n",
       "       [2, 5, 4, 6, 5, 4, 8, 8, 8, 7, 7, 3, 5],\n",
       "       [4, 3, 2, 2, 6, 7, 4, 6, 5, 5, 5, 3, 3]])"
      ]
     },
     "execution_count": 57,
     "metadata": {},
     "output_type": "execute_result"
    }
   ],
   "source": [
    "import numpy as np\n",
    "\n",
    "\n",
    "data = \"\"\"2413432311323\n",
    "3215453535623\n",
    "3255245654254\n",
    "3446585845452\n",
    "4546657867536\n",
    "1438598798454\n",
    "4457876987766\n",
    "3637877979653\n",
    "4654967986887\n",
    "4564679986453\n",
    "1224686865563\n",
    "2546548887735\n",
    "4322674655533\n",
    "\"\"\"\n",
    "\n",
    "blocks = np.array([[int(n) for n in d] for d in data.strip().split(\"\\n\")])\n",
    "\n",
    "blocks"
   ]
  },
  {
   "cell_type": "code",
   "execution_count": 129,
   "id": "ccebae28",
   "metadata": {},
   "outputs": [
    {
     "name": "stdout",
     "output_type": "stream",
     "text": [
      "68 (12, 12, 3, 0)\n",
      "847 (12, 12, 0, 3)\n",
      "2294 (12, 12, 0, 2)\n",
      "2311 (12, 12, 2, 0)\n",
      "2424 (12, 12, 0, 1)\n",
      "2923 (12, 12, 1, 0)\n"
     ]
    }
   ],
   "source": [
    "def is_forwards(dr, dc, mr, mc):\n",
    "    return dr * mr + dc * mc > 0\n",
    "\n",
    "def is_backwards(dr, dc, mr, mc):\n",
    "    return dr * mr + dc * mc < 0\n",
    "\n",
    "def is_orthogonal(dr, dc, mr, mc):\n",
    "    return dr * mr + dc * mc == 0\n",
    "\n",
    "def is_out_of_bounds(nr, nc, sr, sc):\n",
    "    return not (0 <= nr < sr and 0 <= nc < sc)\n",
    "\n",
    "def next_move(coord, move, shape):\n",
    "    cr, cc, dr, dc = coord\n",
    "    mr, mc = move\n",
    "    nr, nc = (cr + mr, cc + mc)\n",
    "    sr, sc = shape\n",
    "    if is_out_of_bounds(nr, nc, sr, sc):\n",
    "        return None\n",
    "    if is_orthogonal(dr, dc, mr, mc):\n",
    "        ndr, ndc = mr, mc\n",
    "        return nr, nc, ndr, ndc\n",
    "    elif is_backwards(dr, dc, mr, mc):\n",
    "        return None\n",
    "    elif is_forwards(dr, dc, mr, mc):\n",
    "        ndr, ndc = mr + dr, mc + dc\n",
    "        if abs(ndr) <= 3 and abs(ndc) <= 3:\n",
    "            return nr, nc, ndr, ndc\n",
    "        else:\n",
    "            return None\n",
    "    return None\n",
    "\n",
    "\n",
    "stack = [(0, (0, 0, 0, 0))]\n",
    "seen = set()\n",
    "losses = {(0, 0, 0, 0): 0}\n",
    "while stack:\n",
    "    curr_loss, curr_coord = stack.pop()\n",
    "    if curr_coord in seen:\n",
    "        continue\n",
    "    else:\n",
    "        seen.add(curr_coord)\n",
    "    \n",
    "    if curr_coord[:2] == (12, 12):\n",
    "        print(curr_loss, curr_coord)\n",
    "    \n",
    "    moves = [\n",
    "        (-1, 0), (1, 0), (0, -1), (0, 1),\n",
    "        (-2, 0), (2, 0), (0, -2), (0, 2),\n",
    "        (-3, 0), (3, 0), (0, -3), (0, 3)\n",
    "    ]\n",
    "    next_coords = [\n",
    "        next_move(curr_coord, m, blocks.shape) for m in moves\n",
    "        if next_move(curr_coord, m, blocks.shape)\n",
    "    ]\n",
    "    for next_coord in next_coords:\n",
    "        nr, nc, ndr, ndc = next_coord\n",
    "        if next_coord in seen:\n",
    "            continue\n",
    "        \n",
    "        # pdb.set_trace()\n",
    "        route_loss = 0\n",
    "        for i in range(1, ndr + 1):\n",
    "            route_loss += blocks[cr + i, cc]\n",
    "        for j in range(1, ndc + 1):\n",
    "            route_loss += blocks[cr, cc + j]\n",
    "        \n",
    "        next_loss = curr_loss + route_loss\n",
    "        stack.append((next_loss, next_coord))\n"
   ]
  },
  {
   "cell_type": "code",
   "execution_count": 125,
   "id": "6aeac312",
   "metadata": {},
   "outputs": [
    {
     "data": {
      "text/plain": [
       "array([[2, 4, 1, 3, 4, 3, 2, 3, 1, 1, 3, 2, 3],\n",
       "       [3, 2, 1, 5, 4, 5, 3, 5, 3, 5, 6, 2, 3],\n",
       "       [3, 2, 5, 5, 2, 4, 5, 6, 5, 4, 2, 5, 4],\n",
       "       [3, 4, 4, 6, 5, 8, 5, 8, 4, 5, 4, 5, 2],\n",
       "       [4, 5, 4, 6, 6, 5, 7, 8, 6, 7, 5, 3, 6],\n",
       "       [1, 4, 3, 8, 5, 9, 8, 7, 9, 8, 4, 5, 4],\n",
       "       [4, 4, 5, 7, 8, 7, 6, 9, 8, 7, 7, 6, 6],\n",
       "       [3, 6, 3, 7, 8, 7, 7, 9, 7, 9, 6, 5, 3],\n",
       "       [4, 6, 5, 4, 9, 6, 7, 9, 8, 6, 8, 8, 7],\n",
       "       [4, 5, 6, 4, 6, 7, 9, 9, 8, 6, 4, 5, 3],\n",
       "       [1, 2, 2, 4, 6, 8, 6, 8, 6, 5, 5, 6, 3],\n",
       "       [2, 5, 4, 6, 5, 4, 8, 8, 8, 7, 7, 3, 5],\n",
       "       [4, 3, 2, 2, 6, 7, 4, 6, 5, 5, 5, 3, 3]])"
      ]
     },
     "execution_count": 125,
     "metadata": {},
     "output_type": "execute_result"
    }
   ],
   "source": [
    "blocks"
   ]
  },
  {
   "cell_type": "code",
   "execution_count": 118,
   "id": "218198ef",
   "metadata": {},
   "outputs": [],
   "source": []
  }
 ],
 "metadata": {
  "kernelspec": {
   "display_name": "Python 3 (ipykernel)",
   "language": "python",
   "name": "python3"
  },
  "language_info": {
   "codemirror_mode": {
    "name": "ipython",
    "version": 3
   },
   "file_extension": ".py",
   "mimetype": "text/x-python",
   "name": "python",
   "nbconvert_exporter": "python",
   "pygments_lexer": "ipython3",
   "version": "3.9.18"
  }
 },
 "nbformat": 4,
 "nbformat_minor": 5
}
