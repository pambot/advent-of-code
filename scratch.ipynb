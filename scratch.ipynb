{
 "cells": [
  {
   "cell_type": "code",
   "execution_count": 2,
   "id": "84f3b0c5-20cc-40d0-bd07-b50a7e802ded",
   "metadata": {},
   "outputs": [
    {
     "name": "stdout",
     "output_type": "stream",
     "text": [
      "[(94, 34), (26, 66), (17, 86), (69, 23)]\n",
      "[(22, 67), (67, 21), (84, 37), (27, 71)]\n",
      "[(10000000008400, 10000000005400), (10000000012748, 10000000012176), (10000000007870, 10000000006450), (10000000018641, 10000000010279)]\n"
     ]
    }
   ],
   "source": [
    "import re\n",
    "import numpy as np\n",
    "\n",
    "\n",
    "data = \"\"\"\n",
    "Button A: X+94, Y+34\n",
    "Button B: X+22, Y+67\n",
    "Prize: X=8400, Y=5400\n",
    "\n",
    "Button A: X+26, Y+66\n",
    "Button B: X+67, Y+21\n",
    "Prize: X=12748, Y=12176\n",
    "\n",
    "Button A: X+17, Y+86\n",
    "Button B: X+84, Y+37\n",
    "Prize: X=7870, Y=6450\n",
    "\n",
    "Button A: X+69, Y+23\n",
    "Button B: X+27, Y+71\n",
    "Prize: X=18641, Y=10279\"\"\"\n",
    "\n",
    "lines = data.strip().split(\"\\n\")\n",
    "button_a = [tuple(map(int, re.findall(r'\\d+', s))) for s in lines[::4]]\n",
    "button_b = [tuple(map(int, re.findall(r'\\d+', s))) for s in lines[1::4]]\n",
    "prizes = [tuple(map(int, re.findall(r'\\d+', s))) for s in lines[2::4]]\n",
    "\n",
    "prizes = [(10000000000000 + p[0], 10000000000000 + p[1]) for p in prizes]\n",
    "\n",
    "print(button_a,  button_b, prizes, sep=\"\\n\")"
   ]
  },
  {
   "cell_type": "code",
   "execution_count": 20,
   "id": "251cc38b-1c7d-4419-9e9b-3a817396e4e0",
   "metadata": {},
   "outputs": [
    {
     "data": {
      "text/plain": [
       "(array([[94, 22],\n",
       "        [34, 67]]),\n",
       " (10000000008400, 10000000005400))"
      ]
     },
     "execution_count": 20,
     "metadata": {},
     "output_type": "execute_result"
    }
   ],
   "source": [
    "n = 0\n",
    "a = button_a[n]\n",
    "b = button_b[n]\n",
    "p = prizes[n]\n",
    "\n",
    "m = np.array([a, b]).T\n",
    "m, p"
   ]
  },
  {
   "cell_type": "code",
   "execution_count": 21,
   "id": "a5e86879-b8b4-4452-9fb1-08c078abd12b",
   "metadata": {},
   "outputs": [
    {
     "data": {
      "text/plain": [
       "(81081081161.08107, 108108108148.10812)"
      ]
     },
     "execution_count": 21,
     "metadata": {},
     "output_type": "execute_result"
    }
   ],
   "source": [
    "r = np.linalg.solve(m, p)\n",
    "\n",
    "r[0], r[1]"
   ]
  },
  {
   "cell_type": "code",
   "execution_count": 22,
   "id": "9882ac0c-e17c-4f08-a231-e0854158be5b",
   "metadata": {},
   "outputs": [
    {
     "data": {
      "text/plain": [
       "(81081081161.0, 108108108148.0)"
      ]
     },
     "execution_count": 22,
     "metadata": {},
     "output_type": "execute_result"
    }
   ],
   "source": [
    "z = np.round(r, decimals=0)\n",
    "\n",
    "z[0], z[1]"
   ]
  },
  {
   "cell_type": "code",
   "execution_count": 23,
   "id": "57a4580d-982d-4e1b-bb82-2102c13084fc",
   "metadata": {},
   "outputs": [
    {
     "data": {
      "text/plain": [
       "(81081081161.081, 108108108148.108)"
      ]
     },
     "execution_count": 23,
     "metadata": {},
     "output_type": "execute_result"
    }
   ],
   "source": [
    "t = np.round(r, decimals=3)\n",
    "\n",
    "t[0], t[1]"
   ]
  },
  {
   "cell_type": "code",
   "execution_count": 24,
   "id": "2f3d0f9b-404e-4ea4-8c6c-591caaec78f5",
   "metadata": {},
   "outputs": [
    {
     "data": {
      "text/plain": [
       "False"
      ]
     },
     "execution_count": 24,
     "metadata": {},
     "output_type": "execute_result"
    }
   ],
   "source": [
    "np.array_equal(z, t)"
   ]
  },
  {
   "cell_type": "code",
   "execution_count": null,
   "id": "ecf9400e-0b10-4625-be9d-c3c69ef35348",
   "metadata": {},
   "outputs": [],
   "source": []
  },
  {
   "cell_type": "code",
   "execution_count": null,
   "id": "1fd93246-a6c4-40c7-bc3a-cbbd3252626c",
   "metadata": {},
   "outputs": [],
   "source": []
  }
 ],
 "metadata": {
  "kernelspec": {
   "display_name": "Python 3 (ipykernel)",
   "language": "python",
   "name": "python3"
  },
  "language_info": {
   "codemirror_mode": {
    "name": "ipython",
    "version": 3
   },
   "file_extension": ".py",
   "mimetype": "text/x-python",
   "name": "python",
   "nbconvert_exporter": "python",
   "pygments_lexer": "ipython3",
   "version": "3.9.10"
  }
 },
 "nbformat": 4,
 "nbformat_minor": 5
}
