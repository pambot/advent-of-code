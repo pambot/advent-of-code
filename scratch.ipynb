{
 "cells": [
  {
   "cell_type": "code",
   "execution_count": 35,
   "id": "917c39da-18a5-4519-9faa-b18e956b8591",
   "metadata": {},
   "outputs": [
    {
     "data": {
      "text/plain": [
       "10092"
      ]
     },
     "execution_count": 35,
     "metadata": {},
     "output_type": "execute_result"
    }
   ],
   "source": [
    "import numpy as np\n",
    "\n",
    "np.set_printoptions(linewidth=200)\n",
    "\n",
    "\n",
    "data = \"\"\"\n",
    "##########\n",
    "#..O..O.O#\n",
    "#......O.#\n",
    "#.OO..O.O#\n",
    "#..O@..O.#\n",
    "#O#..O...#\n",
    "#O..O..O.#\n",
    "#.OO.O.OO#\n",
    "#....O...#\n",
    "##########\n",
    "\n",
    "<vv>^<v^>v>^vv^v>v<>v^v<v<^vv<<<^><<><>>v<vvv<>^v^>^<<<><<v<<<v^vv^v>^\n",
    "vvv<<^>^v^^><<>>><>^<<><^vv^^<>vvv<>><^^v>^>vv<>v<<<<v<^v>^<^^>>>^<v<v\n",
    "><>vv>v^v^<>><>>>><^^>vv>v<^^^>>v^v^<^^>v^^>v^<^v>v<>>v^v^<v>v^^<^^vv<\n",
    "<<v<^>>^^^^>>>v^<>vvv^><v<<<>^^^vv^<vvv>^>v<^^^^v<>^>vvvv><>>v^<<^^^^^\n",
    "^><^><>>><>^^<<^^v>>><^<v>^<vv>>v>>>^v><>^v><<<<v>>v<v<v>vvv>^<><<>^><\n",
    "^>><>^v<><^vvv<^^<><v<<<<<><^v<<<><<<^^<v<^^^><^>>^<v^><<<^>>^v<v^v<v^\n",
    ">^>>^v>vv>^<<^v<>><<><<v<<v><>v<^vv<<<>^^v^>^^>>><<^v>>v^v><^^>>^<>vv^\n",
    "<><^^>^^^<><vvvvv^v<v<<>^v<v>v<<^><<><<><<<^^<<<^<<>><<><^^^>^^<>^>v<>\n",
    "^^>vv<^v^v<vv>^<><v<^v>^^^>>>^^vvv^>vvv<>>>^<^>>>>>^<<^v>^vvv<>^<><<v>\n",
    "v^^>>><<^^<>>^v^<v^vv<>v^<<>^<^v^v><^<<<><<^<v><v<>vv>>v><v^<vv<>v^<<^\"\"\"\n",
    "\n",
    "\n",
    "def get_next_space(grid, robot, m):\n",
    "    move = {\n",
    "        \"<\": (0, -1),\n",
    "        \"^\": (-1, 0),\n",
    "        \">\": (0, 1),\n",
    "        \"v\": (1, 0),\n",
    "    }\n",
    "\n",
    "    sr, sc = np.array(robot) + np.array(move[m])\n",
    "    item = grid[sr, sc]\n",
    "    if item == \"#\":\n",
    "        return (sr, sc), False\n",
    "    elif item == \".\":\n",
    "        return (sr, sc), True\n",
    "    elif item == \"O\":\n",
    "        return get_next_space(grid, (sr, sc), m)\n",
    "\n",
    "\n",
    "raw_grid, raw_moves = data.strip().split(\"\\n\\n\")\n",
    "grid = np.array([list(r) for r in raw_grid.split(\"\\n\")])\n",
    "moves = raw_moves.replace(\"\\n\", \"\")\n",
    "\n",
    "rr, rc = list(zip(*np.where(grid == \"@\")))[0]\n",
    "\n",
    "for m in moves:\n",
    "    coords, is_move = get_next_space(grid, (rr, rc), m)\n",
    "    nr, nc = coords\n",
    "    \n",
    "    if m == \">\" and is_move:\n",
    "        move_group = grid[rr:nr + 1, rc:nc].copy()\n",
    "        grid[rr:nr + 1, rc:nc] = \".\"\n",
    "        grid[rr:nr + 1, rc + 1:nc + 1] = move_group\n",
    "        rr, rc = rr, rc + 1\n",
    "    elif m == \"<\" and is_move:\n",
    "        move_group = grid[rr:nr + 1, nc + 1:rc + 1].copy()\n",
    "        grid[rr:nr + 1, nc + 1:rc + 1] = \".\"\n",
    "        grid[rr:nr + 1, nc:rc] = move_group\n",
    "        rr, rc = rr, rc - 1\n",
    "    elif m == \"v\" and is_move:\n",
    "        move_group = grid[rr:nr, rc:nc + 1].copy()\n",
    "        grid[rr:nr, rc:nc + 1] = \".\"\n",
    "        grid[rr + 1:nr + 1, rc:nc + 1] = move_group\n",
    "        rr, rc = rr + 1, rc\n",
    "    elif m == \"^\" and is_move:\n",
    "        move_group = grid[nr + 1:rr + 1, rc:nc + 1].copy()\n",
    "        grid[nr + 1:rr + 1, rc:nc + 1] = \".\"\n",
    "        grid[nr:rr, rc:nc + 1] = move_group\n",
    "        rr, rc = rr - 1, rc\n",
    "\n",
    "\n",
    "brs, bcs = np.where(grid == \"O\")\n",
    "\n",
    "np.sum(brs * 100 + bcs)"
   ]
  },
  {
   "cell_type": "code",
   "execution_count": 39,
   "id": "e543a2ea-30df-4ebe-8878-9a493c2f4366",
   "metadata": {},
   "outputs": [
    {
     "data": {
      "text/plain": [
       "array([['#', '#', '#', '#', '#', '#', '#', '#', '#', '#', '#', '#', '#', '#', '#', '#'],\n",
       "       ['#', '#', '.', '.', '.', '.', '[', ']', '.', '.', '.', '.', '.', '.', '#', '#'],\n",
       "       ['#', '#', '#', '#', '.', '.', '.', '.', '[', ']', '.', '.', '.', '.', '#', '#'],\n",
       "       ['#', '#', '.', '.', '.', '.', '.', '.', '[', ']', '.', '.', '.', '.', '#', '#'],\n",
       "       ['#', '#', '.', '.', '#', '#', '.', '.', '[', ']', '.', '.', '.', '.', '#', '#'],\n",
       "       ['#', '#', '.', '.', '.', '.', '.', '.', '@', '.', '#', '#', '.', '.', '#', '#'],\n",
       "       ['#', '#', '.', '.', '.', '.', '.', '.', '.', '.', '.', '.', '.', '.', '#', '#'],\n",
       "       ['#', '#', '#', '#', '#', '#', '#', '#', '#', '#', '#', '#', '#', '#', '#', '#']], dtype='<U1')"
      ]
     },
     "execution_count": 39,
     "metadata": {},
     "output_type": "execute_result"
    }
   ],
   "source": [
    "data = \"\"\"\n",
    "########\n",
    "#..O...#\n",
    "##..O..#\n",
    "#...O..#\n",
    "#.#.O..#\n",
    "#...@#.#\n",
    "#......#\n",
    "########\n",
    "\n",
    "<vv>^<v^>^\"\"\"\n",
    "\n",
    "expand = {\n",
    "'#': '##',\n",
    "'O': '[]',\n",
    "'.': '..',\n",
    "'@': '@.',\n",
    "}\n",
    "\n",
    "raw_grid, raw_moves = data.strip().split(\"\\n\\n\")\n",
    "for orig, exp in expand.items():\n",
    "    raw_grid = raw_grid.replace(orig, exp)\n",
    "\n",
    "grid_ = np.array([list(r) for r in raw_grid.split(\"\\n\")])\n",
    "moves = raw_moves.replace(\"\\n\", \"\")\n",
    "rr, rc = list(zip(*np.where(grid == \"@\")))[0]\n",
    "\n",
    "grid_"
   ]
  },
  {
   "cell_type": "code",
   "execution_count": 40,
   "id": "557ef3f2-9efe-4cf7-8b42-e63957c13904",
   "metadata": {},
   "outputs": [
    {
     "name": "stdout",
     "output_type": "stream",
     "text": [
      "[['.' '@' '.' '.']\n",
      " ['.' '[' ']' '.']\n",
      " ['[' ']' '[' ']']\n",
      " ['#' '.' '.' '.']\n",
      " ['.' '.' '.' '.']]\n"
     ]
    },
    {
     "data": {
      "text/plain": [
       "((3, 1), False, [(0, 1), (1, 1), (2, 0), (2, 1), (1, 2), (2, 2), (2, 3)])"
      ]
     },
     "execution_count": 40,
     "metadata": {},
     "output_type": "execute_result"
    }
   ],
   "source": [
    "move = {\n",
    "    \"<\": (0, -1),\n",
    "    \"^\": (-1, 0),\n",
    "    \">\": (0, 1),\n",
    "    \"v\": (1, 0),\n",
    "}\n",
    "\n",
    "\n",
    "def get_next_space(grid, robot, m, to_move):\n",
    "    sr, sc = np.array(robot) + np.array(move[m])\n",
    "    item = grid[sr, sc]\n",
    "    to_move.append(robot)\n",
    "    if item == \"#\":\n",
    "        return (sr, sc), False, to_move\n",
    "    elif item == \".\":\n",
    "        return (sr, sc), True, to_move\n",
    "    elif m in \"v^\" and item == \"[\":\n",
    "        left, is_left_move, to_move = get_next_space(grid, (sr, sc), m, to_move)\n",
    "        right, is_right_move, to_move = get_next_space(grid, (sr, sc + 1), m, to_move)\n",
    "        return left, is_left_move and is_right_move, to_move\n",
    "    elif m in \"v^\" and item == \"]\":\n",
    "        left, is_left_move, to_move = get_next_space(grid, (sr, sc - 1), m, to_move)\n",
    "        right, is_right_move, to_move = get_next_space(grid, (sr, sc), m, to_move)\n",
    "        return right, is_left_move and is_right_move, to_move\n",
    "    elif (m in \"<>\" and item in \"[]\") or item == \"O\":\n",
    "        return get_next_space(grid, (sr, sc), m, to_move)\n",
    "        \n",
    "grid = np.array([['.', '@', '.', '.'], ['.', '[', ']', '.'], ['[', ']', '[', ']'], ['#', '.', '.', '.'], ['.', '.', '.', '.']])\n",
    "print(grid)\n",
    "get_next_space(grid, (0, 1), \"v\", list())"
   ]
  },
  {
   "cell_type": "code",
   "execution_count": 41,
   "id": "d7e0c3b5-20c8-437d-b7c1-8f920f3456fc",
   "metadata": {},
   "outputs": [
    {
     "data": {
      "text/plain": [
       "array([['#', '#', '#', '#', '#', '#', '#', '#', '#', '#', '#', '#', '#', '#', '#', '#'],\n",
       "       ['#', '#', '.', '.', '.', '.', '[', ']', '.', '.', '.', '.', '.', '.', '#', '#'],\n",
       "       ['#', '#', '#', '#', '.', '.', '.', '.', '[', ']', '.', '.', '.', '.', '#', '#'],\n",
       "       ['#', '#', '.', '.', '.', '.', '.', '.', '[', ']', '.', '.', '.', '.', '#', '#'],\n",
       "       ['#', '#', '.', '.', '#', '#', '.', '.', '[', ']', '.', '.', '.', '.', '#', '#'],\n",
       "       ['#', '#', '.', '.', '.', '.', '.', '.', '@', '.', '#', '#', '.', '.', '#', '#'],\n",
       "       ['#', '#', '.', '.', '.', '.', '.', '.', '.', '.', '.', '.', '.', '.', '#', '#'],\n",
       "       ['#', '#', '#', '#', '#', '#', '#', '#', '#', '#', '#', '#', '#', '#', '#', '#']], dtype='<U1')"
      ]
     },
     "execution_count": 41,
     "metadata": {},
     "output_type": "execute_result"
    }
   ],
   "source": [
    "# for m in moves:\n",
    "m = \"^\"\n",
    "grid = grid_\n",
    "\n",
    "grid"
   ]
  },
  {
   "cell_type": "code",
   "execution_count": 42,
   "id": "8069e5ec-dd23-4500-93e8-a09c5b2175c0",
   "metadata": {},
   "outputs": [
    {
     "data": {
      "text/plain": [
       "array([['#', '#', '#', '#', '#', '#', '#', '#', '#', '#', '#', '#', '#', '#', '#', '#'],\n",
       "       ['#', '#', '.', '.', '.', '.', '[', ']', '[', ']', '.', '.', '.', '.', '#', '#'],\n",
       "       ['#', '#', '#', '#', '.', '.', '.', '.', '[', ']', '.', '.', '.', '.', '#', '#'],\n",
       "       ['#', '#', '.', '.', '.', '.', '.', '.', '[', ']', '.', '.', '.', '.', '#', '#'],\n",
       "       ['#', '#', '.', '.', '#', '#', '.', '.', '@', '.', '.', '.', '.', '.', '#', '#'],\n",
       "       ['#', '#', '.', '.', '.', '.', '.', '.', '.', '.', '#', '#', '.', '.', '#', '#'],\n",
       "       ['#', '#', '.', '.', '.', '.', '.', '.', '.', '.', '.', '.', '.', '.', '#', '#'],\n",
       "       ['#', '#', '#', '#', '#', '#', '#', '#', '#', '#', '#', '#', '#', '#', '#', '#']], dtype='<U1')"
      ]
     },
     "execution_count": 42,
     "metadata": {},
     "output_type": "execute_result"
    }
   ],
   "source": [
    "coords, is_move, to_move = get_next_space(grid, (rr, rc), m, list())\n",
    "orig = {(mr, mc): grid[mr, mc] for mr, mc in to_move}\n",
    "nr, nc = move[m]\n",
    "\n",
    "for mr, mc in to_move:\n",
    "    grid[mr, mc] = \".\"\n",
    "\n",
    "for mr, mc in to_move:\n",
    "    grid[mr + nr, mc + nc] = orig[(mr, mc)]\n",
    "    \n",
    "\n",
    "grid"
   ]
  },
  {
   "cell_type": "code",
   "execution_count": null,
   "id": "809a8c89-e28e-4f4a-85b7-92e701c48890",
   "metadata": {},
   "outputs": [],
   "source": []
  }
 ],
 "metadata": {
  "kernelspec": {
   "display_name": "Python 3 (ipykernel)",
   "language": "python",
   "name": "python3"
  },
  "language_info": {
   "codemirror_mode": {
    "name": "ipython",
    "version": 3
   },
   "file_extension": ".py",
   "mimetype": "text/x-python",
   "name": "python",
   "nbconvert_exporter": "python",
   "pygments_lexer": "ipython3",
   "version": "3.9.10"
  }
 },
 "nbformat": 4,
 "nbformat_minor": 5
}
