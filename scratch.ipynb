{
 "cells": [
  {
   "cell_type": "code",
   "execution_count": 90,
   "id": "5ee4b917-ba56-435a-a3d7-b17396602d98",
   "metadata": {},
   "outputs": [
    {
     "data": {
      "text/plain": [
       "array([['R', 'R', 'R', 'R', 'I', 'I', 'C', 'C', 'F', 'F'],\n",
       "       ['R', 'R', 'R', 'R', 'I', 'I', 'C', 'C', 'C', 'F'],\n",
       "       ['V', 'V', 'R', 'R', 'R', 'C', 'C', 'F', 'F', 'F'],\n",
       "       ['V', 'V', 'R', 'C', 'C', 'C', 'J', 'F', 'F', 'F'],\n",
       "       ['V', 'V', 'V', 'V', 'C', 'J', 'J', 'C', 'F', 'E'],\n",
       "       ['V', 'V', 'I', 'V', 'C', 'C', 'J', 'J', 'E', 'E'],\n",
       "       ['V', 'V', 'I', 'I', 'I', 'C', 'J', 'J', 'E', 'E'],\n",
       "       ['M', 'I', 'I', 'I', 'I', 'I', 'J', 'J', 'E', 'E'],\n",
       "       ['M', 'I', 'I', 'I', 'S', 'I', 'J', 'E', 'E', 'E'],\n",
       "       ['M', 'M', 'M', 'I', 'S', 'S', 'J', 'E', 'E', 'E']], dtype='<U1')"
      ]
     },
     "execution_count": 90,
     "metadata": {},
     "output_type": "execute_result"
    }
   ],
   "source": [
    "from collections import defaultdict\n",
    "import numpy as np\n",
    "\n",
    "data = \"\"\"\n",
    "RRRRIICCFF\n",
    "RRRRIICCCF\n",
    "VVRRRCCFFF\n",
    "VVRCCCJFFF\n",
    "VVVVCJJCFE\n",
    "VVIVCCJJEE\n",
    "VVIIICJJEE\n",
    "MIIIIIJJEE\n",
    "MIIISIJEEE\n",
    "MMMISSJEEE\"\"\"\n",
    "\n",
    "# with open(f\"data/2024/12.txt\", \"r\") as f:\n",
    "#     data = f.read()\n",
    "\n",
    "garden = np.array([list(d) for d in data.strip().split()])\n",
    "plants = np.unique(garden)\n",
    "AROUND = ((-1, 0), (0, -1), (1, 0), (0, 1))\n",
    "nrows, ncols = garden.shape\n",
    "\n",
    "garden"
   ]
  },
  {
   "cell_type": "code",
   "execution_count": 91,
   "id": "cb04fb6e-610a-492e-93a2-a79ec71fe9da",
   "metadata": {},
   "outputs": [
    {
     "data": {
      "text/plain": [
       "defaultdict(list,\n",
       "            {'C': [[(4, 4),\n",
       "               (0, 7),\n",
       "               (5, 5),\n",
       "               (3, 4),\n",
       "               (6, 5),\n",
       "               (5, 4),\n",
       "               (1, 8),\n",
       "               (0, 6),\n",
       "               (1, 7),\n",
       "               (3, 3),\n",
       "               (2, 6),\n",
       "               (1, 6),\n",
       "               (2, 5),\n",
       "               (3, 5)],\n",
       "              [(4, 7)]],\n",
       "             'E': [[(8, 8),\n",
       "               (9, 9),\n",
       "               (8, 7),\n",
       "               (6, 9),\n",
       "               (6, 8),\n",
       "               (5, 8),\n",
       "               (4, 9),\n",
       "               (7, 9),\n",
       "               (8, 9),\n",
       "               (9, 8),\n",
       "               (5, 9),\n",
       "               (9, 7),\n",
       "               (7, 8)]],\n",
       "             'F': [[(3, 8),\n",
       "               (2, 7),\n",
       "               (3, 7),\n",
       "               (0, 9),\n",
       "               (2, 9),\n",
       "               (3, 9),\n",
       "               (4, 8),\n",
       "               (0, 8),\n",
       "               (1, 9),\n",
       "               (2, 8)]],\n",
       "             'I': [[(7, 4),\n",
       "               (6, 2),\n",
       "               (7, 1),\n",
       "               (9, 3),\n",
       "               (8, 1),\n",
       "               (6, 4),\n",
       "               (7, 3),\n",
       "               (8, 3),\n",
       "               (7, 2),\n",
       "               (8, 2),\n",
       "               (7, 5),\n",
       "               (6, 3),\n",
       "               (8, 5),\n",
       "               (5, 2)],\n",
       "              [(0, 5), (0, 4), (1, 4), (1, 5)]],\n",
       "             'J': [[(7, 7),\n",
       "               (9, 6),\n",
       "               (4, 6),\n",
       "               (5, 7),\n",
       "               (6, 7),\n",
       "               (4, 5),\n",
       "               (7, 6),\n",
       "               (5, 6),\n",
       "               (8, 6),\n",
       "               (3, 6),\n",
       "               (6, 6)]],\n",
       "             'M': [[(9, 0), (7, 0), (9, 2), (8, 0), (9, 1)]],\n",
       "             'R': [[(0, 1),\n",
       "               (2, 4),\n",
       "               (1, 2),\n",
       "               (0, 0),\n",
       "               (1, 1),\n",
       "               (0, 3),\n",
       "               (2, 3),\n",
       "               (0, 2),\n",
       "               (2, 2),\n",
       "               (1, 0),\n",
       "               (3, 2),\n",
       "               (1, 3)]],\n",
       "             'S': [[(9, 5), (8, 4), (9, 4)]],\n",
       "             'V': [[(4, 0),\n",
       "               (2, 1),\n",
       "               (4, 3),\n",
       "               (3, 1),\n",
       "               (6, 1),\n",
       "               (2, 0),\n",
       "               (5, 1),\n",
       "               (4, 2),\n",
       "               (3, 0),\n",
       "               (5, 0),\n",
       "               (6, 0),\n",
       "               (5, 3),\n",
       "               (4, 1)]]})"
      ]
     },
     "execution_count": 91,
     "metadata": {},
     "output_type": "execute_result"
    }
   ],
   "source": [
    "plots = defaultdict(list)\n",
    "\n",
    "def get_plot_coords(garden, loc, plant):\n",
    "    stack = [loc]\n",
    "    seen = set()\n",
    "    \n",
    "    nrows, ncols = garden.shape\n",
    "    \n",
    "    while stack:\n",
    "        vr, vc = stack.pop()\n",
    "        seen.add((vr, vc))\n",
    "        \n",
    "        next_plants = [\n",
    "            (vr + ar, vc + ac) for ar, ac in AROUND\n",
    "            if 0 <= vr + ar < nrows and 0 <= vc + ac < ncols\n",
    "            and garden[vr + ar, vc + ac] == plant\n",
    "        ]\n",
    "        for nr, nc in next_plants:\n",
    "            if (nr, nc) not in seen:\n",
    "                stack.append((nr, nc))\n",
    "    return seen\n",
    "\n",
    "for plant in plants:\n",
    "    locs = list(zip(*np.where(garden == plant)))\n",
    "    \n",
    "    while locs:\n",
    "        loc = locs.pop()\n",
    "        seen = get_plot_coords(garden, loc, plant)\n",
    "        plots[plant].append(list(seen))\n",
    "        locs = list(set(locs) - seen)\n",
    "    \n",
    "plots"
   ]
  },
  {
   "cell_type": "code",
   "execution_count": 92,
   "id": "625cdc91-a8ca-430a-b0e3-a17b4b95dcde",
   "metadata": {},
   "outputs": [
    {
     "data": {
      "text/plain": [
       "(defaultdict(int,\n",
       "             {'C_0': 14,\n",
       "              'C_1': 1,\n",
       "              'E_0': 13,\n",
       "              'F_0': 10,\n",
       "              'I_0': 14,\n",
       "              'I_1': 4,\n",
       "              'J_0': 11,\n",
       "              'M_0': 5,\n",
       "              'R_0': 12,\n",
       "              'S_0': 3,\n",
       "              'V_0': 13}),\n",
       " defaultdict(int,\n",
       "             {'C_0': 28,\n",
       "              'C_1': 4,\n",
       "              'E_0': 18,\n",
       "              'F_0': 18,\n",
       "              'I_0': 22,\n",
       "              'I_1': 8,\n",
       "              'J_0': 20,\n",
       "              'M_0': 12,\n",
       "              'R_0': 18,\n",
       "              'S_0': 8,\n",
       "              'V_0': 20}))"
      ]
     },
     "execution_count": 92,
     "metadata": {},
     "output_type": "execute_result"
    }
   ],
   "source": [
    "perimeters = defaultdict(int)\n",
    "areas = defaultdict(int)\n",
    "\n",
    "for p, regions in plots.items():\n",
    "    for i, r in enumerate(regions):\n",
    "        areas[f\"{p}_{i}\"] += len(r)\n",
    "        for vr, vc in r:\n",
    "            look = [\n",
    "                (vr + ar, vc + ac) for ar, ac in AROUND\n",
    "                if (0 <= vr + ar < nrows and 0 <= vc + ac < ncols and garden[vr + ar, vc + ac] != p)\n",
    "                or ((vr + ar in (-1, nrows)) or (vc + ac in (-1, ncols)))\n",
    "            ]\n",
    "            perimeters[f\"{p}_{i}\"] += len(look)\n",
    "\n",
    "areas, perimeters"
   ]
  },
  {
   "cell_type": "code",
   "execution_count": 93,
   "id": "309df52d-4d43-4a75-b444-3a84ec85f85c",
   "metadata": {},
   "outputs": [
    {
     "data": {
      "text/plain": [
       "1930"
      ]
     },
     "execution_count": 93,
     "metadata": {},
     "output_type": "execute_result"
    }
   ],
   "source": [
    "price = 0\n",
    "for p in areas.keys():\n",
    "    price += areas[p] * perimeters[p]\n",
    "\n",
    "price"
   ]
  },
  {
   "cell_type": "code",
   "execution_count": 94,
   "id": "98209058-f350-4211-8b2d-02ec4cab248f",
   "metadata": {},
   "outputs": [
    {
     "data": {
      "text/plain": [
       "defaultdict(int,\n",
       "            {'C_0': 22,\n",
       "             'C_1': 4,\n",
       "             'E_0': 8,\n",
       "             'F_0': 12,\n",
       "             'I_0': 16,\n",
       "             'I_1': 4,\n",
       "             'J_0': 12,\n",
       "             'M_0': 6,\n",
       "             'R_0': 10,\n",
       "             'S_0': 6,\n",
       "             'V_0': 10})"
      ]
     },
     "execution_count": 94,
     "metadata": {},
     "output_type": "execute_result"
    }
   ],
   "source": [
    "# corner cases\n",
    "nrows, ncols = garden.shape\n",
    "\n",
    "# if both coords are not on grid or different plant\n",
    "outer_corners = [\n",
    "    ((-1, 0), (0, 1)), \n",
    "    ((-1, 0), (0, -1)), \n",
    "    ((1, 0), (0, 1)), \n",
    "    ((1, 0), (0, -1)), \n",
    "]\n",
    "\n",
    "# if first two are same plant but third is different, cannot be off grid\n",
    "inner_corners = [\n",
    "    ((-1, 0), (0, 1), (-1, 1)), \n",
    "    ((-1, 0), (0, -1), (-1, -1)), \n",
    "    ((1, 0), (0, 1), (1, 1)), \n",
    "    ((1, 0), (0, -1), (1, -1)), \n",
    "]\n",
    "\n",
    "sides = defaultdict(int)\n",
    "\n",
    "\n",
    "\n",
    "for plant, regions in plots.items():\n",
    "    for i, r in enumerate(regions):\n",
    "        corners = 0\n",
    "        for cr, cc in r:\n",
    "            for (ar0, ac0), (ar1, ac1) in outer_corners:\n",
    "                or0, oc0 = cr + ar0, cc + ac0\n",
    "                or1, oc1 = cr + ar1, cc + ac1\n",
    "                if (\n",
    "                    ((not 0 <= or0 < nrows or not 0 <= oc0 < ncols) or garden[or0, oc0] != plant) and\n",
    "                    ((not 0 <= or1 < nrows or not 0 <= oc1 < ncols) or garden[or1, oc1] != plant)\n",
    "                ):\n",
    "                    corners += 1\n",
    "            \n",
    "            for (ar0, ac0), (ar1, ac1), (ar2, ac2) in inner_corners:\n",
    "                ir0, ic0 = cr + ar0, cc + ac0\n",
    "                ir1, ic1 = cr + ar1, cc + ac1\n",
    "                ir2, ic2 = cr + ar2, cc + ac2\n",
    "                if (\n",
    "                    any(not 0 <= xr < nrows for xr in (ir0, ir1, ir2)) or \n",
    "                    any(not 0 <= xc < ncols for xc in (ic0, ic1, ic2))\n",
    "                ):\n",
    "                    continue\n",
    "                else:\n",
    "                    if (\n",
    "                        garden[ir0, ic0] == plant and \n",
    "                        garden[ir1, ic1] == plant and \n",
    "                        garden[ir2, ic2] != plant\n",
    "                    ):\n",
    "                        corners += 1\n",
    "        sides[f\"{plant}_{i}\"] = corners\n",
    "\n",
    "sides"
   ]
  },
  {
   "cell_type": "code",
   "execution_count": 95,
   "id": "51fec8b1-578e-45e1-8cd0-21e7a157f716",
   "metadata": {},
   "outputs": [
    {
     "data": {
      "text/plain": [
       "1206"
      ]
     },
     "execution_count": 95,
     "metadata": {},
     "output_type": "execute_result"
    }
   ],
   "source": [
    "price = 0\n",
    "for p in areas.keys():\n",
    "    price += areas[p] * sides[p]\n",
    "\n",
    "price"
   ]
  },
  {
   "cell_type": "code",
   "execution_count": null,
   "id": "84f3b0c5-20cc-40d0-bd07-b50a7e802ded",
   "metadata": {},
   "outputs": [],
   "source": []
  },
  {
   "cell_type": "code",
   "execution_count": null,
   "id": "a5e86879-b8b4-4452-9fb1-08c078abd12b",
   "metadata": {},
   "outputs": [],
   "source": []
  }
 ],
 "metadata": {
  "kernelspec": {
   "display_name": "Python 3 (ipykernel)",
   "language": "python",
   "name": "python3"
  },
  "language_info": {
   "codemirror_mode": {
    "name": "ipython",
    "version": 3
   },
   "file_extension": ".py",
   "mimetype": "text/x-python",
   "name": "python",
   "nbconvert_exporter": "python",
   "pygments_lexer": "ipython3",
   "version": "3.9.10"
  }
 },
 "nbformat": 4,
 "nbformat_minor": 5
}
