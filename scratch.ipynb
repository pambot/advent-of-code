{
 "cells": [
  {
   "cell_type": "code",
   "execution_count": 73,
   "id": "1fd93246-a6c4-40c7-bc3a-cbbd3252626c",
   "metadata": {},
   "outputs": [
    {
     "data": {
      "text/plain": [
       "(array([4, 3, 3, 0, 0, 0, 6, 0, 3, 3, 4, 5]),\n",
       " array([ 0,  6, 10,  2,  0,  3,  7,  3,  9,  7,  2,  9]))"
      ]
     },
     "execution_count": 73,
     "metadata": {},
     "output_type": "execute_result"
    }
   ],
   "source": [
    "import numpy as np\n",
    "import re\n",
    "\n",
    "\n",
    "data = \"\"\"\n",
    "p=0,4 v=3,-3\n",
    "p=6,3 v=-1,-3\n",
    "p=10,3 v=-1,2\n",
    "p=2,0 v=2,-1\n",
    "p=0,0 v=1,3\n",
    "p=3,0 v=-2,-2\n",
    "p=7,6 v=-1,-3\n",
    "p=3,0 v=-1,-2\n",
    "p=9,3 v=2,3\n",
    "p=7,3 v=-1,2\n",
    "p=2,4 v=2,-3\n",
    "p=9,5 v=-3,-3\"\"\"\n",
    "\n",
    "nrows, ncols = 7, 11\n",
    "qrow, qcol = int((nrows - 1)/2), int((ncols - 1)/2)\n",
    "\n",
    "lines = data.strip().split(\"\\n\")\n",
    "nums = [list(map(int, re.findall(r'-?\\d+', s))) for s in lines]\n",
    "\n",
    "prs = np.array([n[1] for n in nums])\n",
    "pcs = np.array([n[0] for n in nums])\n",
    "vrs = np.array([n[3] for n in nums])\n",
    "vcs = np.array([n[2] for n in nums])\n",
    "\n",
    "tiles = np.zeros((nrows, ncols))\n",
    "\n",
    "prs, pcs"
   ]
  },
  {
   "cell_type": "code",
   "execution_count": 74,
   "id": "6c303c81-59fd-4261-b8c1-b8540d612fb4",
   "metadata": {},
   "outputs": [
    {
     "data": {
      "text/plain": [
       "[(5, 3),\n",
       " (4, 5),\n",
       " (0, 9),\n",
       " (5, 4),\n",
       " (6, 1),\n",
       " (3, 1),\n",
       " (0, 6),\n",
       " (3, 2),\n",
       " (2, 0),\n",
       " (0, 6),\n",
       " (5, 4),\n",
       " (6, 6)]"
      ]
     },
     "execution_count": 74,
     "metadata": {},
     "output_type": "execute_result"
    }
   ],
   "source": [
    "#for i, p, v in zip(range(len(positions)), positions, velocities):\n",
    "\n",
    "def wrap(a, b, max_value):\n",
    "    return np.mod((a + b), max_value)\n",
    "\n",
    "for _ in range(100):\n",
    "    prs = wrap(prs, vrs, nrows)\n",
    "    pcs = wrap(pcs, vcs, ncols)\n",
    "\n",
    "list(zip(prs, pcs))"
   ]
  },
  {
   "cell_type": "code",
   "execution_count": 75,
   "id": "25683762-358d-4b07-8566-87b72de3c9f7",
   "metadata": {},
   "outputs": [
    {
     "data": {
      "text/plain": [
       "array([[0., 0., 0., 0., 0., 0., 2., 0., 0., 1., 0.],\n",
       "       [0., 0., 0., 0., 0., 0., 0., 0., 0., 0., 0.],\n",
       "       [1., 0., 0., 0., 0., 0., 0., 0., 0., 0., 0.],\n",
       "       [0., 1., 1., 0., 0., 0., 0., 0., 0., 0., 0.],\n",
       "       [0., 0., 0., 0., 0., 1., 0., 0., 0., 0., 0.],\n",
       "       [0., 0., 0., 1., 2., 0., 0., 0., 0., 0., 0.],\n",
       "       [0., 1., 0., 0., 0., 0., 1., 0., 0., 0., 0.]])"
      ]
     },
     "execution_count": 75,
     "metadata": {},
     "output_type": "execute_result"
    }
   ],
   "source": [
    "for pr, pc in zip(prs, pcs):\n",
    "    tiles[pr, pc] += 1\n",
    "\n",
    "tiles"
   ]
  },
  {
   "cell_type": "code",
   "execution_count": 82,
   "id": "a6673f0b-b562-4882-b18e-29f6652329f6",
   "metadata": {},
   "outputs": [
    {
     "data": {
      "text/plain": [
       "12.0"
      ]
     },
     "execution_count": 82,
     "metadata": {},
     "output_type": "execute_result"
    }
   ],
   "source": [
    "np.product(\n",
    "    (\n",
    "        tiles[:qrow, :qcol].sum(),\n",
    "        tiles[qrow + 1:, :qcol].sum(),\n",
    "        tiles[:qrow, qcol + 1:].sum(),\n",
    "        tiles[qrow + 1:, qcol + 1:].sum()\n",
    "    )\n",
    ")"
   ]
  },
  {
   "cell_type": "code",
   "execution_count": null,
   "id": "917c39da-18a5-4519-9faa-b18e956b8591",
   "metadata": {},
   "outputs": [],
   "source": []
  },
  {
   "cell_type": "code",
   "execution_count": null,
   "id": "8d01fbab-dd58-4a68-bb4a-0ab962427c61",
   "metadata": {},
   "outputs": [],
   "source": []
  }
 ],
 "metadata": {
  "kernelspec": {
   "display_name": "Python 3 (ipykernel)",
   "language": "python",
   "name": "python3"
  },
  "language_info": {
   "codemirror_mode": {
    "name": "ipython",
    "version": 3
   },
   "file_extension": ".py",
   "mimetype": "text/x-python",
   "name": "python",
   "nbconvert_exporter": "python",
   "pygments_lexer": "ipython3",
   "version": "3.9.10"
  }
 },
 "nbformat": 4,
 "nbformat_minor": 5
}
